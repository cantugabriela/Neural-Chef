{
 "cells": [
  {
   "cell_type": "code",
   "execution_count": 1,
   "metadata": {
    "colab": {
     "base_uri": "https://localhost:8080/",
     "height": 35
    },
    "colab_type": "code",
    "executionInfo": {
     "elapsed": 2004,
     "status": "ok",
     "timestamp": 1545939671451,
     "user": {
      "displayName": "Trupti Samant",
      "photoUrl": "https://lh4.googleusercontent.com/-yUxLPtD4YlU/AAAAAAAAAAI/AAAAAAAAAA0/awTN_OXzJ_U/s64/photo.jpg",
      "userId": "13823504500017454280"
     },
     "user_tz": 360
    },
    "id": "EAbBdkpYe9lf",
    "outputId": "d3d941a1-cde2-4943-d0eb-0ebe355eec45"
   },
   "outputs": [
    {
     "name": "stderr",
     "output_type": "stream",
     "text": [
      "C:\\Users\\anany\\Anaconda3\\envs\\PythonData\\lib\\site-packages\\h5py\\__init__.py:36: FutureWarning: Conversion of the second argument of issubdtype from `float` to `np.floating` is deprecated. In future, it will be treated as `np.float64 == np.dtype(float).type`.\n",
      "  from ._conv import register_converters as _register_converters\n",
      "Using TensorFlow backend.\n"
     ]
    }
   ],
   "source": [
    "#import required libraries \n",
    "\n",
    "from keras import applications\n",
    "from keras.preprocessing.image import ImageDataGenerator\n",
    "from keras import optimizers\n",
    "from keras.models import Sequential, Model \n",
    "from keras.layers import Dropout, Flatten, Dense, GlobalAveragePooling2D\n",
    "from keras import backend as k \n",
    "from keras.callbacks import ModelCheckpoint, LearningRateScheduler, TensorBoard, EarlyStopping"
   ]
  },
  {
   "cell_type": "code",
   "execution_count": 2,
   "metadata": {
    "colab": {},
    "colab_type": "code",
    "id": "OuM3yE0tyEs1"
   },
   "outputs": [],
   "source": [
    "import os"
   ]
  },
  {
   "cell_type": "code",
   "execution_count": 3,
   "metadata": {
    "colab": {
     "base_uri": "https://localhost:8080/",
     "height": 128
    },
    "colab_type": "code",
    "executionInfo": {
     "elapsed": 87719,
     "status": "ok",
     "timestamp": 1545939760893,
     "user": {
      "displayName": "Trupti Samant",
      "photoUrl": "https://lh4.googleusercontent.com/-yUxLPtD4YlU/AAAAAAAAAAI/AAAAAAAAAA0/awTN_OXzJ_U/s64/photo.jpg",
      "userId": "13823504500017454280"
     },
     "user_tz": 360
    },
    "id": "7RcZdMPWoYyW",
    "outputId": "06536c7b-2926-4a35-e832-7f4276201a3a"
   },
   "outputs": [
    {
     "ename": "ModuleNotFoundError",
     "evalue": "No module named 'google.colab'",
     "output_type": "error",
     "traceback": [
      "\u001b[1;31m---------------------------------------------------------------------------\u001b[0m",
      "\u001b[1;31mModuleNotFoundError\u001b[0m                       Traceback (most recent call last)",
      "\u001b[1;32m<ipython-input-3-386ff909cd20>\u001b[0m in \u001b[0;36m<module>\u001b[1;34m()\u001b[0m\n\u001b[0;32m      1\u001b[0m \u001b[1;31m# Load the Drive helper and mount\u001b[0m\u001b[1;33m\u001b[0m\u001b[1;33m\u001b[0m\u001b[0m\n\u001b[1;32m----> 2\u001b[1;33m \u001b[1;32mfrom\u001b[0m \u001b[0mgoogle\u001b[0m\u001b[1;33m.\u001b[0m\u001b[0mcolab\u001b[0m \u001b[1;32mimport\u001b[0m \u001b[0mdrive\u001b[0m\u001b[1;33m\u001b[0m\u001b[0m\n\u001b[0m\u001b[0;32m      3\u001b[0m \u001b[1;33m\u001b[0m\u001b[0m\n\u001b[0;32m      4\u001b[0m \u001b[1;31m# This will prompt for authorization.\u001b[0m\u001b[1;33m\u001b[0m\u001b[1;33m\u001b[0m\u001b[0m\n\u001b[0;32m      5\u001b[0m \u001b[0mdrive\u001b[0m\u001b[1;33m.\u001b[0m\u001b[0mmount\u001b[0m\u001b[1;33m(\u001b[0m\u001b[1;34m'/content/drive'\u001b[0m\u001b[1;33m)\u001b[0m\u001b[1;33m\u001b[0m\u001b[0m\n",
      "\u001b[1;31mModuleNotFoundError\u001b[0m: No module named 'google.colab'"
     ]
    }
   ],
   "source": [
    "# Load the Drive helper and mount\n",
    "from google.colab import drive\n",
    "\n",
    "# This will prompt for authorization.\n",
    "drive.mount('/content/drive')\n",
    "\n"
   ]
  },
  {
   "cell_type": "code",
   "execution_count": 4,
   "metadata": {
    "colab": {
     "base_uri": "https://localhost:8080/",
     "height": 35
    },
    "colab_type": "code",
    "executionInfo": {
     "elapsed": 360,
     "status": "ok",
     "timestamp": 1545939770181,
     "user": {
      "displayName": "Trupti Samant",
      "photoUrl": "https://lh4.googleusercontent.com/-yUxLPtD4YlU/AAAAAAAAAAI/AAAAAAAAAA0/awTN_OXzJ_U/s64/photo.jpg",
      "userId": "13823504500017454280"
     },
     "user_tz": 360
    },
    "id": "4pKtPgNgp6Sl",
    "outputId": "271bddc5-c836-49d5-c356-9ea74a12d90e"
   },
   "outputs": [
    {
     "name": "stdout",
     "output_type": "stream",
     "text": [
      "/content/drive/My Drive/ColabNotebooks/PicToRecipe\n"
     ]
    }
   ],
   "source": [
    "#go to working directory\n",
    "cd \"/content/drive/My Drive/ColabNotebooks/PicToRecipe\""
   ]
  },
  {
   "cell_type": "code",
   "execution_count": 0,
   "metadata": {
    "colab": {},
    "colab_type": "code",
    "id": "VOj4X3DwmHFT"
   },
   "outputs": [],
   "source": [
    "#define the veriables\n",
    "img_width, img_height = 224, 224\n",
    "train_data_dir = \"DataSet/Training_set\"\n",
    "validation_data_dir = \"DataSet/Test_set\""
   ]
  },
  {
   "cell_type": "code",
   "execution_count": 6,
   "metadata": {
    "colab": {
     "base_uri": "https://localhost:8080/",
     "height": 290
    },
    "colab_type": "code",
    "executionInfo": {
     "elapsed": 1688,
     "status": "ok",
     "timestamp": 1545939772433,
     "user": {
      "displayName": "Trupti Samant",
      "photoUrl": "https://lh4.googleusercontent.com/-yUxLPtD4YlU/AAAAAAAAAAI/AAAAAAAAAA0/awTN_OXzJ_U/s64/photo.jpg",
      "userId": "13823504500017454280"
     },
     "user_tz": 360
    },
    "id": "N70ZanA0LmkY",
    "outputId": "8d2f0472-366f-402f-fe40-051fef3cf008"
   },
   "outputs": [
    {
     "data": {
      "text/plain": [
       "['Red Tomato',\n",
       " 'Broccoli',\n",
       " 'Spring Onion',\n",
       " 'Mushroom',\n",
       " 'Potato',\n",
       " 'Carrot',\n",
       " 'Corn',\n",
       " 'Spinach',\n",
       " 'Eggplant',\n",
       " 'Onion',\n",
       " 'Coliflower',\n",
       " 'Green Tomato',\n",
       " 'Brussels Sprouts',\n",
       " 'Green Beans',\n",
       " 'Avocado']"
      ]
     },
     "execution_count": 6,
     "metadata": {
      "tags": []
     },
     "output_type": "execute_result"
    }
   ],
   "source": [
    "path, data_dir_list, files = next(os.walk(train_data_dir))\n",
    "data_dir_list"
   ]
  },
  {
   "cell_type": "code",
   "execution_count": 7,
   "metadata": {
    "colab": {
     "base_uri": "https://localhost:8080/",
     "height": 54
    },
    "colab_type": "code",
    "executionInfo": {
     "elapsed": 1911,
     "status": "ok",
     "timestamp": 1545939774716,
     "user": {
      "displayName": "Trupti Samant",
      "photoUrl": "https://lh4.googleusercontent.com/-yUxLPtD4YlU/AAAAAAAAAAI/AAAAAAAAAA0/awTN_OXzJ_U/s64/photo.jpg",
      "userId": "13823504500017454280"
     },
     "user_tz": 360
    },
    "id": "HAp2CImMmJTx",
    "outputId": "210fee53-18a3-4c14-dc80-bdb635f3c53e"
   },
   "outputs": [
    {
     "name": "stdout",
     "output_type": "stream",
     "text": [
      "15\n",
      "623\n"
     ]
    }
   ],
   "source": [
    "#Calculate Train samples\n",
    "train_samples = 0\n",
    "\n",
    "path, dirs, files = next(os.walk(train_data_dir))\n",
    "nb_classsifires = len(dirs)\n",
    "print(nb_classsifires)\n",
    "for d in dirs:\n",
    "    path, nub_classifires, files = next(os.walk(train_data_dir + \"/\" + d))\n",
    "    train_samples = train_samples+len(files)\n",
    "    \n",
    "print(train_samples ) "
   ]
  },
  {
   "cell_type": "code",
   "execution_count": 8,
   "metadata": {
    "colab": {
     "base_uri": "https://localhost:8080/",
     "height": 35
    },
    "colab_type": "code",
    "executionInfo": {
     "elapsed": 3118,
     "status": "ok",
     "timestamp": 1545939776851,
     "user": {
      "displayName": "Trupti Samant",
      "photoUrl": "https://lh4.googleusercontent.com/-yUxLPtD4YlU/AAAAAAAAAAI/AAAAAAAAAA0/awTN_OXzJ_U/s64/photo.jpg",
      "userId": "13823504500017454280"
     },
     "user_tz": 360
    },
    "id": "tFq30e4erjHJ",
    "outputId": "63f24c54-5bb9-41ab-f1ab-bcda953c0b20"
   },
   "outputs": [
    {
     "name": "stdout",
     "output_type": "stream",
     "text": [
      "202\n"
     ]
    }
   ],
   "source": [
    "test_samples = 0\n",
    "\n",
    "path, dirs, files = next(os.walk(validation_data_dir))\n",
    "for d in dirs:\n",
    "    path, nub_classifires, files = next(os.walk(validation_data_dir + \"/\" + d))\n",
    "    test_samples = test_samples+len(files)\n",
    "    \n",
    "print(test_samples) "
   ]
  },
  {
   "cell_type": "code",
   "execution_count": 0,
   "metadata": {
    "colab": {},
    "colab_type": "code",
    "id": "msUxKAr7fB2s"
   },
   "outputs": [],
   "source": [
    "batch_size = 10\n",
    "epochs = 25"
   ]
  },
  {
   "cell_type": "code",
   "execution_count": 10,
   "metadata": {
    "colab": {
     "base_uri": "https://localhost:8080/",
     "height": 54
    },
    "colab_type": "code",
    "executionInfo": {
     "elapsed": 9973,
     "status": "ok",
     "timestamp": 1545939784933,
     "user": {
      "displayName": "Trupti Samant",
      "photoUrl": "https://lh4.googleusercontent.com/-yUxLPtD4YlU/AAAAAAAAAAI/AAAAAAAAAA0/awTN_OXzJ_U/s64/photo.jpg",
      "userId": "13823504500017454280"
     },
     "user_tz": 360
    },
    "id": "rSb4omaLfGe8",
    "outputId": "2eb54ea5-4eac-4cb8-dbde-3940f7495877"
   },
   "outputs": [
    {
     "name": "stdout",
     "output_type": "stream",
     "text": [
      "Downloading data from https://github.com/fchollet/deep-learning-models/releases/download/v0.1/vgg19_weights_tf_dim_ordering_tf_kernels_notop.h5\n",
      "80142336/80134624 [==============================] - 6s 0us/step\n"
     ]
    }
   ],
   "source": [
    "#VGG19 model, with weights pre-trained on ImageNet.\n",
    "model = applications.VGG19(weights = \"imagenet\", include_top=False, input_shape = (img_width, img_height, 3))\n",
    "#model = applications.VGG19(weights = \"imagenet\", include_top=True, classes=1000, input_shape = None)"
   ]
  },
  {
   "cell_type": "code",
   "execution_count": 11,
   "metadata": {
    "colab": {
     "base_uri": "https://localhost:8080/",
     "height": 945
    },
    "colab_type": "code",
    "executionInfo": {
     "elapsed": 386,
     "status": "ok",
     "timestamp": 1545939786235,
     "user": {
      "displayName": "Trupti Samant",
      "photoUrl": "https://lh4.googleusercontent.com/-yUxLPtD4YlU/AAAAAAAAAAI/AAAAAAAAAA0/awTN_OXzJ_U/s64/photo.jpg",
      "userId": "13823504500017454280"
     },
     "user_tz": 360
    },
    "id": "oQ8zSFhnfRGJ",
    "outputId": "b126f977-e33e-42f8-9328-1f45f0cf230f"
   },
   "outputs": [
    {
     "name": "stdout",
     "output_type": "stream",
     "text": [
      "_________________________________________________________________\n",
      "Layer (type)                 Output Shape              Param #   \n",
      "=================================================================\n",
      "input_1 (InputLayer)         (None, 224, 224, 3)       0         \n",
      "_________________________________________________________________\n",
      "block1_conv1 (Conv2D)        (None, 224, 224, 64)      1792      \n",
      "_________________________________________________________________\n",
      "block1_conv2 (Conv2D)        (None, 224, 224, 64)      36928     \n",
      "_________________________________________________________________\n",
      "block1_pool (MaxPooling2D)   (None, 112, 112, 64)      0         \n",
      "_________________________________________________________________\n",
      "block2_conv1 (Conv2D)        (None, 112, 112, 128)     73856     \n",
      "_________________________________________________________________\n",
      "block2_conv2 (Conv2D)        (None, 112, 112, 128)     147584    \n",
      "_________________________________________________________________\n",
      "block2_pool (MaxPooling2D)   (None, 56, 56, 128)       0         \n",
      "_________________________________________________________________\n",
      "block3_conv1 (Conv2D)        (None, 56, 56, 256)       295168    \n",
      "_________________________________________________________________\n",
      "block3_conv2 (Conv2D)        (None, 56, 56, 256)       590080    \n",
      "_________________________________________________________________\n",
      "block3_conv3 (Conv2D)        (None, 56, 56, 256)       590080    \n",
      "_________________________________________________________________\n",
      "block3_conv4 (Conv2D)        (None, 56, 56, 256)       590080    \n",
      "_________________________________________________________________\n",
      "block3_pool (MaxPooling2D)   (None, 28, 28, 256)       0         \n",
      "_________________________________________________________________\n",
      "block4_conv1 (Conv2D)        (None, 28, 28, 512)       1180160   \n",
      "_________________________________________________________________\n",
      "block4_conv2 (Conv2D)        (None, 28, 28, 512)       2359808   \n",
      "_________________________________________________________________\n",
      "block4_conv3 (Conv2D)        (None, 28, 28, 512)       2359808   \n",
      "_________________________________________________________________\n",
      "block4_conv4 (Conv2D)        (None, 28, 28, 512)       2359808   \n",
      "_________________________________________________________________\n",
      "block4_pool (MaxPooling2D)   (None, 14, 14, 512)       0         \n",
      "_________________________________________________________________\n",
      "block5_conv1 (Conv2D)        (None, 14, 14, 512)       2359808   \n",
      "_________________________________________________________________\n",
      "block5_conv2 (Conv2D)        (None, 14, 14, 512)       2359808   \n",
      "_________________________________________________________________\n",
      "block5_conv3 (Conv2D)        (None, 14, 14, 512)       2359808   \n",
      "_________________________________________________________________\n",
      "block5_conv4 (Conv2D)        (None, 14, 14, 512)       2359808   \n",
      "_________________________________________________________________\n",
      "block5_pool (MaxPooling2D)   (None, 7, 7, 512)         0         \n",
      "=================================================================\n",
      "Total params: 20,024,384\n",
      "Trainable params: 20,024,384\n",
      "Non-trainable params: 0\n",
      "_________________________________________________________________\n"
     ]
    }
   ],
   "source": [
    "model.summary()"
   ]
  },
  {
   "cell_type": "code",
   "execution_count": 0,
   "metadata": {
    "colab": {},
    "colab_type": "code",
    "id": "ju7DPxkrfUG2"
   },
   "outputs": [],
   "source": [
    "# Freeze the layers which you don't want to train. Here I am freezing the first 5 layers.\n",
    "for layer in model.layers[:4]:\n",
    "    layer.trainable = False"
   ]
  },
  {
   "cell_type": "code",
   "execution_count": 0,
   "metadata": {
    "colab": {},
    "colab_type": "code",
    "id": "lVbA60Q-Q2pI"
   },
   "outputs": [],
   "source": [
    "#from keras.preprocessing.image import img_to_array"
   ]
  },
  {
   "cell_type": "code",
   "execution_count": 0,
   "metadata": {
    "colab": {},
    "colab_type": "code",
    "id": "1q0wRkjjWcy4"
   },
   "outputs": [],
   "source": [
    "#x = model.get_layer('fc2').output\n",
    "#x = Dense(128, activation=\"relu\")(x)\n",
    "#x = Dropout(0.5)(x)\n",
    "#x = Dense(128, activation=\"relu\")(x)\n",
    "#x = Dropout(0.2)(x)\n",
    "#x = Dense(128, activation=\"relu\")(x)\n",
    "#predictions = Dense(nb_classsifires, activation=\"softmax\")(x)"
   ]
  },
  {
   "cell_type": "code",
   "execution_count": 0,
   "metadata": {
    "colab": {},
    "colab_type": "code",
    "id": "ZTihFxbRspiZ"
   },
   "outputs": [],
   "source": [
    "x = model.output\n",
    "x = Flatten()(x) \n",
    "x = Dense(128, activation=\"relu\")(x) \n",
    "x = Dropout(0.5)(x) \n",
    "x = Dense(128, activation=\"relu\")(x) \n",
    "x = Dropout(0.2)(x) \n",
    "x = Dense(128, activation=\"relu\")(x) \n",
    "predictions = Dense(nb_classsifires, activation=\"softmax\")(x)"
   ]
  },
  {
   "cell_type": "code",
   "execution_count": 0,
   "metadata": {
    "colab": {},
    "colab_type": "code",
    "id": "-XjICeJGfY6v"
   },
   "outputs": [],
   "source": [
    "# creating the final model \n",
    "model_final = Model(inputs = model.input, outputs = predictions)"
   ]
  },
  {
   "cell_type": "code",
   "execution_count": 0,
   "metadata": {
    "colab": {},
    "colab_type": "code",
    "id": "Ri7Nbg3ffbNY"
   },
   "outputs": [],
   "source": [
    "# compile the model \n",
    "model_final.compile(loss = \"categorical_crossentropy\", optimizer = optimizers.SGD(lr=0.0001, momentum=0.9), metrics=[\"accuracy\"])"
   ]
  },
  {
   "cell_type": "code",
   "execution_count": 0,
   "metadata": {
    "colab": {},
    "colab_type": "code",
    "id": "zt-t8W0rfd7c"
   },
   "outputs": [],
   "source": [
    "# Initiate the train and test generators with data Augumentation \n",
    "train_datagen = ImageDataGenerator(rescale = 1./255,\n",
    "                                   horizontal_flip = True,\n",
    "                                   fill_mode = \"nearest\",\n",
    "                                   zoom_range = 0.3,\n",
    "                                   width_shift_range = 0.3,\n",
    "                                   height_shift_range=0.3,\n",
    "                                   rotation_range=30)"
   ]
  },
  {
   "cell_type": "code",
   "execution_count": 0,
   "metadata": {
    "colab": {},
    "colab_type": "code",
    "id": "dtAYUWztff7S"
   },
   "outputs": [],
   "source": [
    "test_datagen = ImageDataGenerator(rescale = 1./255,\n",
    "                                  horizontal_flip = True,\n",
    "                                  fill_mode = \"nearest\",\n",
    "                                  zoom_range = 0.3,\n",
    "                                  width_shift_range = 0.3,\n",
    "                                  height_shift_range=0.3,\n",
    "                                  rotation_range=30)"
   ]
  },
  {
   "cell_type": "code",
   "execution_count": 20,
   "metadata": {
    "colab": {
     "base_uri": "https://localhost:8080/",
     "height": 35
    },
    "colab_type": "code",
    "executionInfo": {
     "elapsed": 762,
     "status": "ok",
     "timestamp": 1545939797183,
     "user": {
      "displayName": "Trupti Samant",
      "photoUrl": "https://lh4.googleusercontent.com/-yUxLPtD4YlU/AAAAAAAAAAI/AAAAAAAAAA0/awTN_OXzJ_U/s64/photo.jpg",
      "userId": "13823504500017454280"
     },
     "user_tz": 360
    },
    "id": "U4EEZlsCfiCZ",
    "outputId": "e7219780-3d0d-49c3-d6c0-e6034fcb1396"
   },
   "outputs": [
    {
     "name": "stdout",
     "output_type": "stream",
     "text": [
      "Found 621 images belonging to 15 classes.\n"
     ]
    }
   ],
   "source": [
    "train_generator = train_datagen.flow_from_directory(train_data_dir,\n",
    "                                                    target_size = (img_height, img_width),\n",
    "                                                    batch_size = batch_size, \n",
    "                                                    class_mode = \"categorical\")"
   ]
  },
  {
   "cell_type": "code",
   "execution_count": 21,
   "metadata": {
    "colab": {
     "base_uri": "https://localhost:8080/",
     "height": 35
    },
    "colab_type": "code",
    "executionInfo": {
     "elapsed": 559,
     "status": "ok",
     "timestamp": 1545939797881,
     "user": {
      "displayName": "Trupti Samant",
      "photoUrl": "https://lh4.googleusercontent.com/-yUxLPtD4YlU/AAAAAAAAAAI/AAAAAAAAAA0/awTN_OXzJ_U/s64/photo.jpg",
      "userId": "13823504500017454280"
     },
     "user_tz": 360
    },
    "id": "lWZqueXhfkwe",
    "outputId": "53a5cbc7-c5e0-4827-83e9-56303c5d7e24"
   },
   "outputs": [
    {
     "name": "stdout",
     "output_type": "stream",
     "text": [
      "Found 201 images belonging to 15 classes.\n"
     ]
    }
   ],
   "source": [
    "validation_generator = test_datagen.flow_from_directory(validation_data_dir,\n",
    "                                                        target_size = (img_height, img_width),\n",
    "                                                        class_mode = \"categorical\")"
   ]
  },
  {
   "cell_type": "code",
   "execution_count": 22,
   "metadata": {
    "colab": {
     "base_uri": "https://localhost:8080/",
     "height": 290
    },
    "colab_type": "code",
    "executionInfo": {
     "elapsed": 873,
     "status": "ok",
     "timestamp": 1545939799359,
     "user": {
      "displayName": "Trupti Samant",
      "photoUrl": "https://lh4.googleusercontent.com/-yUxLPtD4YlU/AAAAAAAAAAI/AAAAAAAAAA0/awTN_OXzJ_U/s64/photo.jpg",
      "userId": "13823504500017454280"
     },
     "user_tz": 360
    },
    "id": "LC7GnBymk5ly",
    "outputId": "349effc9-dfd7-4b19-f76a-8be3ef9a6d64"
   },
   "outputs": [
    {
     "data": {
      "text/plain": [
       "{'Avocado': 0,\n",
       " 'Broccoli': 1,\n",
       " 'Brussels Sprouts': 2,\n",
       " 'Carrot': 3,\n",
       " 'Coliflower': 4,\n",
       " 'Corn': 5,\n",
       " 'Eggplant': 6,\n",
       " 'Green Beans': 7,\n",
       " 'Green Tomato': 8,\n",
       " 'Mushroom': 9,\n",
       " 'Onion': 10,\n",
       " 'Potato': 11,\n",
       " 'Red Tomato': 12,\n",
       " 'Spinach': 13,\n",
       " 'Spring Onion': 14}"
      ]
     },
     "execution_count": 22,
     "metadata": {
      "tags": []
     },
     "output_type": "execute_result"
    }
   ],
   "source": [
    "train_generator.class_indices"
   ]
  },
  {
   "cell_type": "code",
   "execution_count": 0,
   "metadata": {
    "colab": {},
    "colab_type": "code",
    "id": "4FMZ9JyOMeq4"
   },
   "outputs": [],
   "source": [
    "import pandas as pd\n",
    "d = train_generator.class_indices"
   ]
  },
  {
   "cell_type": "code",
   "execution_count": 45,
   "metadata": {
    "colab": {
     "base_uri": "https://localhost:8080/",
     "height": 55
    },
    "colab_type": "code",
    "executionInfo": {
     "elapsed": 776,
     "status": "ok",
     "timestamp": 1545940617792,
     "user": {
      "displayName": "Trupti Samant",
      "photoUrl": "https://lh4.googleusercontent.com/-yUxLPtD4YlU/AAAAAAAAAAI/AAAAAAAAAA0/awTN_OXzJ_U/s64/photo.jpg",
      "userId": "13823504500017454280"
     },
     "user_tz": 360
    },
    "id": "S5vUDrDIPRrK",
    "outputId": "a233e5f8-9d73-4672-f9ae-5684fb04d3b1"
   },
   "outputs": [
    {
     "data": {
      "text/plain": [
       "dict_items([('Avocado', 0), ('Broccoli', 1), ('Brussels Sprouts', 2), ('Carrot', 3), ('Coliflower', 4), ('Corn', 5), ('Eggplant', 6), ('Green Beans', 7), ('Green Tomato', 8), ('Mushroom', 9), ('Onion', 10), ('Potato', 11), ('Red Tomato', 12), ('Spinach', 13), ('Spring Onion', 14)])"
      ]
     },
     "execution_count": 45,
     "metadata": {
      "tags": []
     },
     "output_type": "execute_result"
    }
   ],
   "source": [
    "d.items()"
   ]
  },
  {
   "cell_type": "code",
   "execution_count": 0,
   "metadata": {
    "colab": {},
    "colab_type": "code",
    "id": "nZBAAWVoMWe_"
   },
   "outputs": [],
   "source": [
    "labels = pd.DataFrame(list(d.items()), columns=['Label', 'Index'])"
   ]
  },
  {
   "cell_type": "code",
   "execution_count": 53,
   "metadata": {
    "colab": {
     "base_uri": "https://localhost:8080/",
     "height": 498
    },
    "colab_type": "code",
    "executionInfo": {
     "elapsed": 784,
     "status": "ok",
     "timestamp": 1545940869548,
     "user": {
      "displayName": "Trupti Samant",
      "photoUrl": "https://lh4.googleusercontent.com/-yUxLPtD4YlU/AAAAAAAAAAI/AAAAAAAAAA0/awTN_OXzJ_U/s64/photo.jpg",
      "userId": "13823504500017454280"
     },
     "user_tz": 360
    },
    "id": "JMyo6aCCQUVm",
    "outputId": "3ee78361-7b8d-4fd7-8871-2f67ee1b697f"
   },
   "outputs": [
    {
     "data": {
      "text/html": [
       "<div>\n",
       "<style scoped>\n",
       "    .dataframe tbody tr th:only-of-type {\n",
       "        vertical-align: middle;\n",
       "    }\n",
       "\n",
       "    .dataframe tbody tr th {\n",
       "        vertical-align: top;\n",
       "    }\n",
       "\n",
       "    .dataframe thead th {\n",
       "        text-align: right;\n",
       "    }\n",
       "</style>\n",
       "<table border=\"1\" class=\"dataframe\">\n",
       "  <thead>\n",
       "    <tr style=\"text-align: right;\">\n",
       "      <th></th>\n",
       "      <th>Label</th>\n",
       "      <th>Index</th>\n",
       "    </tr>\n",
       "  </thead>\n",
       "  <tbody>\n",
       "    <tr>\n",
       "      <th>0</th>\n",
       "      <td>Avocado</td>\n",
       "      <td>0</td>\n",
       "    </tr>\n",
       "    <tr>\n",
       "      <th>1</th>\n",
       "      <td>Broccoli</td>\n",
       "      <td>1</td>\n",
       "    </tr>\n",
       "    <tr>\n",
       "      <th>2</th>\n",
       "      <td>Brussels Sprouts</td>\n",
       "      <td>2</td>\n",
       "    </tr>\n",
       "    <tr>\n",
       "      <th>3</th>\n",
       "      <td>Carrot</td>\n",
       "      <td>3</td>\n",
       "    </tr>\n",
       "    <tr>\n",
       "      <th>4</th>\n",
       "      <td>Coliflower</td>\n",
       "      <td>4</td>\n",
       "    </tr>\n",
       "    <tr>\n",
       "      <th>5</th>\n",
       "      <td>Corn</td>\n",
       "      <td>5</td>\n",
       "    </tr>\n",
       "    <tr>\n",
       "      <th>6</th>\n",
       "      <td>Eggplant</td>\n",
       "      <td>6</td>\n",
       "    </tr>\n",
       "    <tr>\n",
       "      <th>7</th>\n",
       "      <td>Green Beans</td>\n",
       "      <td>7</td>\n",
       "    </tr>\n",
       "    <tr>\n",
       "      <th>8</th>\n",
       "      <td>Green Tomato</td>\n",
       "      <td>8</td>\n",
       "    </tr>\n",
       "    <tr>\n",
       "      <th>9</th>\n",
       "      <td>Mushroom</td>\n",
       "      <td>9</td>\n",
       "    </tr>\n",
       "    <tr>\n",
       "      <th>10</th>\n",
       "      <td>Onion</td>\n",
       "      <td>10</td>\n",
       "    </tr>\n",
       "    <tr>\n",
       "      <th>11</th>\n",
       "      <td>Potato</td>\n",
       "      <td>11</td>\n",
       "    </tr>\n",
       "    <tr>\n",
       "      <th>12</th>\n",
       "      <td>Red Tomato</td>\n",
       "      <td>12</td>\n",
       "    </tr>\n",
       "    <tr>\n",
       "      <th>13</th>\n",
       "      <td>Spinach</td>\n",
       "      <td>13</td>\n",
       "    </tr>\n",
       "    <tr>\n",
       "      <th>14</th>\n",
       "      <td>Spring Onion</td>\n",
       "      <td>14</td>\n",
       "    </tr>\n",
       "  </tbody>\n",
       "</table>\n",
       "</div>"
      ],
      "text/plain": [
       "               Label  Index\n",
       "0            Avocado      0\n",
       "1           Broccoli      1\n",
       "2   Brussels Sprouts      2\n",
       "3             Carrot      3\n",
       "4         Coliflower      4\n",
       "5               Corn      5\n",
       "6           Eggplant      6\n",
       "7        Green Beans      7\n",
       "8       Green Tomato      8\n",
       "9           Mushroom      9\n",
       "10             Onion     10\n",
       "11            Potato     11\n",
       "12        Red Tomato     12\n",
       "13           Spinach     13\n",
       "14      Spring Onion     14"
      ]
     },
     "execution_count": 53,
     "metadata": {
      "tags": []
     },
     "output_type": "execute_result"
    }
   ],
   "source": [
    "labels"
   ]
  },
  {
   "cell_type": "code",
   "execution_count": 0,
   "metadata": {
    "colab": {},
    "colab_type": "code",
    "id": "Tef4NliYM-J_"
   },
   "outputs": [],
   "source": [
    "labels.to_csv(\"labels.csv\", index=False)"
   ]
  },
  {
   "cell_type": "code",
   "execution_count": 0,
   "metadata": {
    "colab": {},
    "colab_type": "code",
    "id": "1MIht53Yr8xv"
   },
   "outputs": [],
   "source": [
    "# Save the model according to the conditions  \n",
    "checkpoint = ModelCheckpoint(\"vgg19_pictoreceipe_1.h5\", monitor='val_acc', verbose=1, save_best_only=True, save_weights_only=False, mode='auto', period=1)\n",
    "early = EarlyStopping(monitor='val_acc', min_delta=0, patience=10, verbose=1, mode='auto')\n"
   ]
  },
  {
   "cell_type": "code",
   "execution_count": 0,
   "metadata": {
    "colab": {},
    "colab_type": "code",
    "id": "PYusyKb-MV1x"
   },
   "outputs": [],
   "source": []
  },
  {
   "cell_type": "code",
   "execution_count": 0,
   "metadata": {
    "colab": {
     "base_uri": "https://localhost:8080/",
     "height": 1363
    },
    "colab_type": "code",
    "executionInfo": {
     "elapsed": 5746383,
     "status": "ok",
     "timestamp": 1545704792155,
     "user": {
      "displayName": "Trupti Samant",
      "photoUrl": "https://lh4.googleusercontent.com/-yUxLPtD4YlU/AAAAAAAAAAI/AAAAAAAAAA0/awTN_OXzJ_U/s64/photo.jpg",
      "userId": "13823504500017454280"
     },
     "user_tz": 360
    },
    "id": "h6fh5qpYsE_i",
    "outputId": "a5299da1-ef31-4815-ece2-9d385d7e4ced"
   },
   "outputs": [
    {
     "name": "stdout",
     "output_type": "stream",
     "text": [
      "Epoch 1/25\n",
      "312/311 [==============================] - 540s 2s/step - loss: 2.6934 - acc: 0.1074 - val_loss: 2.6783 - val_acc: 0.0656\n",
      "\n",
      "Epoch 00001: val_acc improved from -inf to 0.06564, saving model to vgg19_pictoreceipe_1.h5\n",
      "Epoch 2/25\n",
      "312/311 [==============================] - 236s 755ms/step - loss: 2.5717 - acc: 0.1760 - val_loss: 2.4254 - val_acc: 0.2125\n",
      "\n",
      "Epoch 00002: val_acc improved from 0.06564 to 0.21252, saving model to vgg19_pictoreceipe_1.h5\n",
      "Epoch 3/25\n",
      "312/311 [==============================] - 236s 756ms/step - loss: 2.0879 - acc: 0.3295 - val_loss: 1.7305 - val_acc: 0.4490\n",
      "\n",
      "Epoch 00003: val_acc improved from 0.21252 to 0.44903, saving model to vgg19_pictoreceipe_1.h5\n",
      "Epoch 4/25\n",
      "312/311 [==============================] - 236s 757ms/step - loss: 1.5822 - acc: 0.4824 - val_loss: 1.2518 - val_acc: 0.6358\n",
      "\n",
      "Epoch 00004: val_acc improved from 0.44903 to 0.63585, saving model to vgg19_pictoreceipe_1.h5\n",
      "Epoch 5/25\n",
      "312/311 [==============================] - 236s 756ms/step - loss: 1.1429 - acc: 0.6205 - val_loss: 1.1653 - val_acc: 0.6722\n",
      "\n",
      "Epoch 00005: val_acc improved from 0.63585 to 0.67224, saving model to vgg19_pictoreceipe_1.h5\n",
      "Epoch 6/25\n",
      "312/311 [==============================] - 236s 757ms/step - loss: 0.9466 - acc: 0.6942 - val_loss: 0.8953 - val_acc: 0.7571\n",
      "\n",
      "Epoch 00006: val_acc improved from 0.67224 to 0.75712, saving model to vgg19_pictoreceipe_1.h5\n",
      "Epoch 7/25\n",
      "312/311 [==============================] - 236s 755ms/step - loss: 0.7090 - acc: 0.7712 - val_loss: 0.8184 - val_acc: 0.7680\n",
      "\n",
      "Epoch 00007: val_acc improved from 0.75712 to 0.76798, saving model to vgg19_pictoreceipe_1.h5\n",
      "Epoch 8/25\n",
      "312/311 [==============================] - 236s 756ms/step - loss: 0.6176 - acc: 0.8093 - val_loss: 0.7240 - val_acc: 0.7967\n",
      "\n",
      "Epoch 00008: val_acc improved from 0.76798 to 0.79674, saving model to vgg19_pictoreceipe_1.h5\n",
      "Epoch 9/25\n",
      "312/311 [==============================] - 236s 756ms/step - loss: 0.4599 - acc: 0.8654 - val_loss: 0.5979 - val_acc: 0.8309\n",
      "\n",
      "Epoch 00009: val_acc improved from 0.79674 to 0.83095, saving model to vgg19_pictoreceipe_1.h5\n",
      "Epoch 10/25\n",
      "312/311 [==============================] - 237s 760ms/step - loss: 0.5426 - acc: 0.8397 - val_loss: 0.6220 - val_acc: 0.8256\n",
      "\n",
      "Epoch 00010: val_acc did not improve from 0.83095\n",
      "Epoch 11/25\n",
      "312/311 [==============================] - 236s 756ms/step - loss: 0.3770 - acc: 0.8888 - val_loss: 0.6969 - val_acc: 0.8247\n",
      "\n",
      "Epoch 00011: val_acc did not improve from 0.83095\n",
      "Epoch 12/25\n",
      "312/311 [==============================] - 236s 756ms/step - loss: 0.3238 - acc: 0.9051 - val_loss: 0.7409 - val_acc: 0.8170\n",
      "\n",
      "Epoch 00012: val_acc did not improve from 0.83095\n",
      "Epoch 13/25\n",
      "312/311 [==============================] - 235s 753ms/step - loss: 0.2856 - acc: 0.9202 - val_loss: 0.4987 - val_acc: 0.8441\n",
      "\n",
      "Epoch 00013: val_acc improved from 0.83095 to 0.84406, saving model to vgg19_pictoreceipe_1.h5\n",
      "Epoch 14/25\n",
      "312/311 [==============================] - 235s 754ms/step - loss: 0.2200 - acc: 0.9353 - val_loss: 0.6631 - val_acc: 0.8606\n",
      "\n",
      "Epoch 00014: val_acc improved from 0.84406 to 0.86062, saving model to vgg19_pictoreceipe_1.h5\n",
      "Epoch 15/25\n",
      "312/311 [==============================] - 236s 756ms/step - loss: 0.1859 - acc: 0.9510 - val_loss: 0.5852 - val_acc: 0.8620\n",
      "\n",
      "Epoch 00015: val_acc improved from 0.86062 to 0.86203, saving model to vgg19_pictoreceipe_1.h5\n",
      "Epoch 16/25\n",
      "312/311 [==============================] - 236s 755ms/step - loss: 0.2718 - acc: 0.9279 - val_loss: 0.6444 - val_acc: 0.8615\n",
      "\n",
      "Epoch 00016: val_acc did not improve from 0.86203\n",
      "Epoch 17/25\n",
      "312/311 [==============================] - 235s 754ms/step - loss: 0.1617 - acc: 0.9548 - val_loss: 0.5584 - val_acc: 0.8827\n",
      "\n",
      "Epoch 00017: val_acc improved from 0.86203 to 0.88270, saving model to vgg19_pictoreceipe_1.h5\n",
      "Epoch 18/25\n",
      "312/311 [==============================] - 237s 760ms/step - loss: 0.1528 - acc: 0.9564 - val_loss: 0.6040 - val_acc: 0.8608\n",
      "\n",
      "Epoch 00018: val_acc did not improve from 0.88270\n",
      "Epoch 19/25\n",
      "311/311 [============================>.] - ETA: 0s - loss: 0.1291 - acc: 0.9643"
     ]
    }
   ],
   "source": [
    "# Train the model \n",
    "model_final.fit_generator(train_generator,\n",
    "                          steps_per_epoch = train_samples/2,\n",
    "                          epochs = epochs,\n",
    "                          validation_data = validation_generator,\n",
    "                          validation_steps = test_samples,\n",
    "                          callbacks = [checkpoint, early])"
   ]
  },
  {
   "cell_type": "code",
   "execution_count": 0,
   "metadata": {
    "colab": {},
    "colab_type": "code",
    "id": "0WVthaEaypZV"
   },
   "outputs": [],
   "source": []
  }
 ],
 "metadata": {
  "accelerator": "GPU",
  "colab": {
   "collapsed_sections": [],
   "name": "PicToRecepie.ipynb",
   "provenance": [],
   "version": "0.3.2"
  },
  "kernelspec": {
   "display_name": "Python (PythonData)",
   "language": "python",
   "name": "pythondata"
  },
  "language_info": {
   "codemirror_mode": {
    "name": "ipython",
    "version": 3
   },
   "file_extension": ".py",
   "mimetype": "text/x-python",
   "name": "python",
   "nbconvert_exporter": "python",
   "pygments_lexer": "ipython3",
   "version": "3.6.5"
  }
 },
 "nbformat": 4,
 "nbformat_minor": 1
}
